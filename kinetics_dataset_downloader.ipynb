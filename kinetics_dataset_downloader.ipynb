{
 "cells": [
  {
   "cell_type": "code",
   "execution_count": 1,
   "metadata": {},
   "outputs": [],
   "source": [
    "import numpy as np\n",
    "import youtube_dl\n",
    "import subprocess"
   ]
  },
  {
   "cell_type": "code",
   "execution_count": 33,
   "metadata": {},
   "outputs": [],
   "source": [
    "class MyLogger(object):\n",
    "    def debug(self, msg):\n",
    "        pass\n",
    "    \n",
    "    def warning(self, msg):\n",
    "        pass\n",
    "    \n",
    "    def error(self, msg):\n",
    "        print(msg)\n",
    "\n",
    "class FrameExtractor():\n",
    "    def __init__(self, output_dir):\n",
    "        self.url_starter = 'youtube.com/watch?v='\n",
    "        self.output_dir = output_dir\n",
    "        self.v_info = None # v_id, start, end\n",
    "        self.counter = 0\n",
    "        \n",
    "    def my_hook(self, d):\n",
    "        if d['status'] == 'finished':\n",
    "            self.counter += 1\n",
    "            print('[{}]Done downloading, now converting ...'.format(self.counter))\n",
    "            subprocess.call(['ffmpeg', \\\n",
    "                             '-ss', \\\n",
    "                             self.v_info[1], \\\n",
    "                             '-i', \\\n",
    "                             '{}{}_{}_{}.mp4'.format(self.output_dir, *self.v_info), \\\n",
    "                             '-vframes', \\\n",
    "                             '97', \\\n",
    "                             '-vf', \\\n",
    "                             'scale=352:288', \\\n",
    "                             '{}{}_{}_{}_%04d.png'.format(self.output_dir, *self.v_info) \\\n",
    "                            ])\n",
    "            print('Done converting.')\n",
    "            subprocess.call(['rm', \\\n",
    "                 '{}{}_{}_{}.mp4'.format(self.output_dir, *self.v_info) \\\n",
    "                ])\n",
    "            \n",
    "\n",
    "    def extract_frames(self, info):\n",
    "        self.v_info = info\n",
    "\n",
    "        ydl_opts = {\n",
    "            'format': 'bestvideo[fps<=30]',\n",
    "            'outtmpl': '{}%(id)s_{}_{}.%(ext)s'.format(self.output_dir, self.v_info[1], self.v_info[2]),\n",
    "            'logger': MyLogger(),\n",
    "            'progress_hooks': [self.my_hook],\n",
    "        }\n",
    "\n",
    "        with youtube_dl.YoutubeDL(ydl_opts) as ydl:\n",
    "            ydl.download([self.url_starter + self.v_info[0]])\n",
    "\n",
    "            "
   ]
  },
  {
   "cell_type": "code",
   "execution_count": 34,
   "metadata": {},
   "outputs": [],
   "source": [
    "texts = np.genfromtxt('./train_ids/dl_demo.txt',dtype='str')\n",
    "data = []\n",
    "for t in texts:\n",
    "    data.append(t.split('_')) # [id, start, end]"
   ]
  },
  {
   "cell_type": "code",
   "execution_count": 35,
   "metadata": {},
   "outputs": [
    {
     "name": "stdout",
     "output_type": "stream",
     "text": [
      "[['08uqFlT6m00', '000227', '000237'], ['0CsAKXK4sgk', '000004', '000014'], ['0DiezTkGgR0', '000041', '000051']]\n"
     ]
    }
   ],
   "source": [
    "print(data)"
   ]
  },
  {
   "cell_type": "code",
   "execution_count": 36,
   "metadata": {},
   "outputs": [
    {
     "name": "stdout",
     "output_type": "stream",
     "text": [
      "[1]Done downloading, now converting ...\n",
      "Done converting.\n",
      "[2]Done downloading, now converting ...\n",
      "Done converting.\n",
      "[3]Done downloading, now converting ...\n",
      "Done converting.\n"
     ]
    }
   ],
   "source": [
    "ext = FrameExtractor('./data/demo/')\n",
    "for d in data:\n",
    "    ext.extract_frames(d)"
   ]
  },
  {
   "cell_type": "code",
   "execution_count": 37,
   "metadata": {},
   "outputs": [],
   "source": [
    "texts = np.genfromtxt('./train_ids/vcii_test_ids.txt',dtype='str')\n",
    "data = []\n",
    "for t in texts:\n",
    "    data.append(t.split('_')) # [id, start, end]"
   ]
  },
  {
   "cell_type": "code",
   "execution_count": 38,
   "metadata": {},
   "outputs": [
    {
     "data": {
      "text/plain": [
       "['08uqFlT6m00', '000227', '000237']"
      ]
     },
     "execution_count": 38,
     "metadata": {},
     "output_type": "execute_result"
    }
   ],
   "source": [
    "data[0]"
   ]
  },
  {
   "cell_type": "code",
   "execution_count": null,
   "metadata": {},
   "outputs": [],
   "source": []
  }
 ],
 "metadata": {
  "kernelspec": {
   "display_name": "Python [conda env:vcii] *",
   "language": "python",
   "name": "conda-env-vcii-py"
  },
  "language_info": {
   "codemirror_mode": {
    "name": "ipython",
    "version": 3
   },
   "file_extension": ".py",
   "mimetype": "text/x-python",
   "name": "python",
   "nbconvert_exporter": "python",
   "pygments_lexer": "ipython3",
   "version": "3.7.6"
  }
 },
 "nbformat": 4,
 "nbformat_minor": 4
}
